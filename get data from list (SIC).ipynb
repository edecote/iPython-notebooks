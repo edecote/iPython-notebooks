{
 "metadata": {
  "name": ""
 },
 "nbformat": 3,
 "nbformat_minor": 0,
 "worksheets": [
  {
   "cells": [
    {
     "cell_type": "code",
     "collapsed": false,
     "input": [
      "import QSTK.qstkutil.qsdateutil as du\n",
      "import datetime as dt\n",
      "import QSTK.qstkutil.DataAccess as da\n",
      "import QSTK.qstktools.YahooDataPull as yd"
     ],
     "language": "python",
     "metadata": {},
     "outputs": [],
     "prompt_number": 2
    },
    {
     "cell_type": "code",
     "collapsed": false,
     "input": [
      "dataobj = da.DataAccess('Yahoo', verbose=True)\n",
      "ls_symbols = dataobj.get_symbols_from_list('usaSIC_test')"
     ],
     "language": "python",
     "metadata": {},
     "outputs": [
      {
       "output_type": "stream",
       "stream": "stdout",
       "text": [
        "Scratch Directory:  /var/folders/ql/k5d8j5713ydbpc966jjdk0qw0000gn/T/QSScratch\n",
        "Data Directory:  /Users/enrique/anaconda/lib/python2.7/site-packages/QSTK/qstkutil/../QSData\n"
       ]
      }
     ],
     "prompt_number": 11
    },
    {
     "cell_type": "code",
     "collapsed": false,
     "input": [
      "yd.get_yahoo_data('/Users/enrique/anaconda/lib/python2.7/site-packages/QSTK/qstkutil/../QSData/Yahoo/',ls_symbols)"
     ],
     "language": "python",
     "metadata": {},
     "outputs": [
      {
       "ename": "IndexError",
       "evalue": "string index out of range",
       "output_type": "pyerr",
       "traceback": [
        "\u001b[0;31m---------------------------------------------------------------------------\u001b[0m\n\u001b[0;31mIndexError\u001b[0m                                Traceback (most recent call last)",
        "\u001b[0;32m<ipython-input-12-4853cd1f3a89>\u001b[0m in \u001b[0;36m<module>\u001b[0;34m()\u001b[0m\n\u001b[0;32m----> 1\u001b[0;31m \u001b[0myd\u001b[0m\u001b[0;34m.\u001b[0m\u001b[0mget_yahoo_data\u001b[0m\u001b[0;34m(\u001b[0m\u001b[0;34m'/Users/enrique/anaconda/lib/python2.7/site-packages/QSTK/qstkutil/../QSData/Yahoo/'\u001b[0m\u001b[0;34m,\u001b[0m\u001b[0mls_symbols\u001b[0m\u001b[0;34m)\u001b[0m\u001b[0;34m\u001b[0m\u001b[0m\n\u001b[0m",
        "\u001b[0;32m/Users/enrique/anaconda/lib/python2.7/site-packages/QSTK-0.2.7-py2.7.egg/QSTK/qstktools/YahooDataPull.pyc\u001b[0m in \u001b[0;36mget_yahoo_data\u001b[0;34m(data_path, ls_symbols)\u001b[0m\n\u001b[1;32m     29\u001b[0m         \u001b[0;31m# get manipulated if it starts with a \"$\"\u001b[0m\u001b[0;34m\u001b[0m\u001b[0;34m\u001b[0m\u001b[0m\n\u001b[1;32m     30\u001b[0m         \u001b[0msymbol_name\u001b[0m \u001b[0;34m=\u001b[0m \u001b[0msymbol\u001b[0m\u001b[0;34m\u001b[0m\u001b[0m\n\u001b[0;32m---> 31\u001b[0;31m         \u001b[0;32mif\u001b[0m \u001b[0msymbol\u001b[0m\u001b[0;34m[\u001b[0m\u001b[0;36m0\u001b[0m\u001b[0;34m]\u001b[0m \u001b[0;34m==\u001b[0m \u001b[0;34m'$'\u001b[0m\u001b[0;34m:\u001b[0m\u001b[0;34m\u001b[0m\u001b[0m\n\u001b[0m\u001b[1;32m     32\u001b[0m             \u001b[0msymbol\u001b[0m \u001b[0;34m=\u001b[0m \u001b[0;34m'^'\u001b[0m \u001b[0;34m+\u001b[0m \u001b[0msymbol\u001b[0m\u001b[0;34m[\u001b[0m\u001b[0;36m1\u001b[0m\u001b[0;34m:\u001b[0m\u001b[0;34m]\u001b[0m\u001b[0;34m\u001b[0m\u001b[0m\n\u001b[1;32m     33\u001b[0m \u001b[0;34m\u001b[0m\u001b[0m\n",
        "\u001b[0;31mIndexError\u001b[0m: string index out of range"
       ]
      },
      {
       "output_type": "stream",
       "stream": "stdout",
       "text": [
        "Unable to fetch data for stock: DAI at http://ichart.finance.yahoo.com/table.csv?a=0&c=2000&b=1&e=11&d=8&f=2014&s=DAI\n"
       ]
      }
     ],
     "prompt_number": 12
    },
    {
     "cell_type": "code",
     "collapsed": false,
     "input": [],
     "language": "python",
     "metadata": {},
     "outputs": []
    }
   ],
   "metadata": {}
  }
 ]
}