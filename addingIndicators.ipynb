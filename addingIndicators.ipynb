{
 "metadata": {
  "name": ""
 },
 "nbformat": 3,
 "nbformat_minor": 0,
 "worksheets": [
  {
   "cells": [
    {
     "cell_type": "code",
     "collapsed": false,
     "input": [
      "import numpy as np\n",
      "import copy\n",
      "import csv\n",
      "import QSTK.qstkutil.qsdateutil as du\n",
      "import QSTK.qstkutil.qsdateutil_mex as dumex\n",
      "import datetime as dt\n",
      "import QSTK.qstkutil.DataAccess as da\n",
      "import QSTK.qstkstudy.EventProfiler as ep\n",
      "import pandas as pd\n",
      "import talib as ta"
     ],
     "language": "python",
     "metadata": {},
     "outputs": [],
     "prompt_number": 1
    },
    {
     "cell_type": "code",
     "collapsed": false,
     "input": [
      "dt_start = dt.datetime(2010,01,01)\n",
      "dt_end = dt.datetime(2011,12,31)"
     ],
     "language": "python",
     "metadata": {},
     "outputs": [],
     "prompt_number": 2
    },
    {
     "cell_type": "code",
     "collapsed": false,
     "input": [
      "market = '$SPX'\n",
      "dataobj = da.DataAccess('Yahoo', verbose=True)\n",
      "ls_symbols = dataobj.get_symbols_from_list('SIC')"
     ],
     "language": "python",
     "metadata": {},
     "outputs": [],
     "prompt_number": 2
    },
    {
     "cell_type": "code",
     "collapsed": false,
     "input": [
      "ldt_timestamps = du.getNYSEdays(dt_start, dt_end, dt.timedelta(hours=16))"
     ],
     "language": "python",
     "metadata": {},
     "outputs": [],
     "prompt_number": 4
    },
    {
     "cell_type": "code",
     "collapsed": false,
     "input": [
      "ls_keys = ['open', 'high', 'low', 'close', 'volume', 'actual_close']\n",
      "symb = copy.deepcopy(ls_symbols)\n",
      "symb.append(market) #add the indicator for the market"
     ],
     "language": "python",
     "metadata": {},
     "outputs": [],
     "prompt_number": 5
    },
    {
     "cell_type": "code",
     "collapsed": false,
     "input": [
      "ldf_data = dataobj.get_data(ldt_timestamps, symb, ls_keys)"
     ],
     "language": "python",
     "metadata": {},
     "outputs": [],
     "prompt_number": 6
    },
    {
     "cell_type": "code",
     "collapsed": false,
     "input": [
      "d_data = dict(zip(ls_keys, ldf_data))\n",
      "for s_key in ls_keys:\n",
      "        d_data[s_key] = d_data[s_key].fillna(method='ffill')\n",
      "        d_data[s_key] = d_data[s_key].fillna(method='bfill')\n",
      "        d_data[s_key] = d_data[s_key].fillna(1.0)"
     ],
     "language": "python",
     "metadata": {},
     "outputs": [],
     "prompt_number": 12
    },
    {
     "cell_type": "code",
     "collapsed": false,
     "input": [],
     "language": "python",
     "metadata": {},
     "outputs": []
    }
   ],
   "metadata": {}
  }
 ]
}